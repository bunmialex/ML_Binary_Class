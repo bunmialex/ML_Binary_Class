{
 "cells": [
  {
   "cell_type": "code",
   "execution_count": 2,
   "id": "87a8480c-c3e6-469b-bff9-b2139eba51f5",
   "metadata": {},
   "outputs": [
    {
     "name": "stderr",
     "output_type": "stream",
     "text": [
      "24/05/05 03:17:32 WARN Utils: Your hostname, bunmialex-virtual-machine resolves to a loopback address: 127.0.1.1; using 192.168.23.128 instead (on interface ens33)\n",
      "24/05/05 03:17:32 WARN Utils: Set SPARK_LOCAL_IP if you need to bind to another address\n",
      "Using Spark's default log4j profile: org/apache/spark/log4j-defaults.properties\n",
      "Setting default log level to \"WARN\".\n",
      "To adjust logging level use sc.setLogLevel(newLevel). For SparkR, use setLogLevel(newLevel).\n",
      "24/05/05 03:17:33 WARN NativeCodeLoader: Unable to load native-hadoop library for your platform... using builtin-java classes where applicable\n",
      "24/05/05 03:17:35 WARN Utils: Service 'SparkUI' could not bind on port 4040. Attempting port 4041.\n",
      "24/05/05 03:17:35 WARN Utils: Service 'SparkUI' could not bind on port 4041. Attempting port 4042.\n"
     ]
    }
   ],
   "source": [
    "from pyspark.sql.types import * \n",
    "from pyspark.context import SparkContext\n",
    "from pyspark.sql.session import SparkSession\n",
    "sc = SparkContext.getOrCreate();\n",
    "\n",
    "spark = SparkSession(sc)\n",
    "\n",
    "unsw_nb15 = StructType([\n",
    "    StructField(\"srcip\",StringType(),True),\n",
    "    StructField(\"sport\",IntegerType(),True),\n",
    "    StructField(\"dstip\",StringType(),True),\n",
    "    StructField(\"dsport\",IntegerType(),True),\n",
    "    StructField(\"proto\",StringType(),True),\n",
    "    StructField(\"state\",StringType(),True),\n",
    "    StructField(\"dur\",FloatType(),True),\n",
    "    StructField(\"sbytes\",IntegerType(),True),\n",
    "    StructField(\"dbytes\",IntegerType(),True),\n",
    "    StructField(\"sttl\",IntegerType(),True),\n",
    "    StructField(\"dttl\",IntegerType(),True),\n",
    "    StructField(\"sloss\",IntegerType(),True),\n",
    "    StructField(\"dloss\",IntegerType(),True),\n",
    "    StructField(\"service\",StringType(),True),\n",
    "    StructField(\"Sload\",FloatType(),True),\n",
    "    StructField(\"Dload\",FloatType(),True),\n",
    "    StructField(\"Spkts\",IntegerType(),True),\n",
    "    StructField(\"Dpkts\",IntegerType(),True),\n",
    "    StructField(\"swin\",IntegerType(),True),\n",
    "    StructField(\"dwin\",IntegerType(),True),\n",
    "    StructField(\"stcpb\",IntegerType(),True),\n",
    "    StructField(\"dtcpb\",IntegerType(),True),\n",
    "    StructField(\"smeansz\",IntegerType(),True),\n",
    "    StructField(\"dmeansz\",IntegerType(),True),\n",
    "    StructField(\"trans_depth\",IntegerType(),True),\n",
    "    StructField(\"res_bdy_len\",IntegerType(),True),\n",
    "    StructField(\"Sjit\",FloatType(),True),\n",
    "    StructField(\"Djit\",FloatType(),True),\n",
    "    StructField(\"Stime\",TimestampType(),True),\n",
    "    StructField(\"Ltime\",TimestampType(),True),\n",
    "    StructField(\"Sintpkt\",FloatType(),True),\n",
    "    StructField(\"Dintpkt\",FloatType(),True),\n",
    "    StructField(\"tcprtt\",FloatType(),True),\n",
    "    StructField(\"synack\",FloatType(),True),\n",
    "    StructField(\"ackdat\",FloatType(),True),\n",
    "    StructField(\"is_sm_ips_ports\",IntegerType(),True),\n",
    "    StructField(\"ct_state_ttl\",IntegerType(),True),\n",
    "    StructField(\"ct_flw_http_mthd\",IntegerType(),True),\n",
    "    StructField(\"is_ftp_login\",IntegerType(),True),\n",
    "    StructField(\"ct_ftp_cmd\",IntegerType(),True),\n",
    "    StructField(\"ct_srv_src\",IntegerType(),True),\n",
    "    StructField(\"ct_srv_dst\",IntegerType(),True),\n",
    "    StructField(\"ct_dst_ltm\",IntegerType(),True),\n",
    "    StructField(\"ct_src_ltm\",IntegerType(),True),\n",
    "    StructField(\"ct_src_dport_ltm\",IntegerType(),True),\n",
    "    StructField(\"ct_dst_sport_ltm\",IntegerType(),True),\n",
    "    StructField(\"ct_dst_src_ltm\",IntegerType(),True),\n",
    "    StructField(\"attack_cat\",StringType(),True),\n",
    "    StructField(\"Label\",IntegerType(),True)\n",
    "])\n",
    "\n",
    "unsw_nb15_df = spark.read.schema(unsw_nb15).format(\"csv\").load(\"hdfs://localhost:9000/DataAnalysis/UNSW-NB15.csv\").toDF(\"srcip\",\"sport\",\"dstip\",\"dsport\",\"proto\",\"state\",\"dur\",\"sbytes\",\"dbytes\",\"sttl\",\n",
    "     \"dttl\",\"sloss\",\"dloss\",\"service\",\"Sload\",\"Dload\",\"Spkts\",\"Dpkts\",\"swin\",\"dwin\",\n",
    "     \"stcpb\",\"dtcpb\",\"smeansz\",\"dmeansz\",\"trans_depth\",\"res_bdy_len\",\"Sjit\",\"Djit\",\n",
    "     \"Stime\",\"Ltime\",\"Sintpkt\",\"Dintpkt\",\"tcprtt\",\"synack\",\"ackdat\",\"is_sm_ips_ports\",\n",
    "     \"ct_state_ttl\",\"ct_flw_http_mthd\",\"is_ftp_login\",\"ct_ftp_cmd\",\"ct_srv_src\",\n",
    "     \"ct_srv_dst\",\"ct_dst_ltm\",\"ct_src_ltm\",\"ct_src_dport_ltm\",\"ct_dst_sport_ltm\",\n",
    "     \"ct_dst_src_ltm\",\"attack_cat\",\"Label\")\n"
   ]
  },
  {
   "cell_type": "code",
   "execution_count": 3,
   "id": "e0cc7588-7272-4247-82ac-b4bb390acae7",
   "metadata": {},
   "outputs": [],
   "source": [
    "from pyspark.sql.functions import col\n",
    "from pyspark.sql.functions import when"
   ]
  },
  {
   "cell_type": "code",
   "execution_count": 4,
   "id": "a8f98cd4-7766-4f81-b7e0-8c9ab33e8444",
   "metadata": {},
   "outputs": [],
   "source": [
    "default_string = \"Normal\"\n",
    "filled_df = unsw_nb15_df.withColumn(\"attack_cat\", when(unsw_nb15_df[\"attack_cat\"].isNull(), default_string).otherwise(unsw_nb15_df[\"attack_cat\"]))"
   ]
  },
  {
   "cell_type": "code",
   "execution_count": 5,
   "id": "bb406ca4-aa2d-45c8-a6a1-3f220c61ed30",
   "metadata": {},
   "outputs": [],
   "source": [
    "columns_to_drop = [\"srcip\",\"dstip\",\"stcpb\", \"dtcpb\", \"Stime\",\"Ltime\"]\n",
    "cleaned_df = filled_df.drop(*columns_to_drop)"
   ]
  },
  {
   "cell_type": "code",
   "execution_count": 6,
   "id": "201e556a-823d-4a12-8351-db2c39e19c4c",
   "metadata": {},
   "outputs": [
    {
     "name": "stderr",
     "output_type": "stream",
     "text": [
      "                                                                                \r"
     ]
    }
   ],
   "source": [
    "from pyspark.ml.feature import StringIndexer\n",
    "from pyspark.ml.feature import OneHotEncoder\n",
    "\n",
    "SI_proto = StringIndexer(inputCol='proto',outputCol='proto_Index')\n",
    "SI_state = StringIndexer(inputCol='state',outputCol='state_Index')\n",
    "SI_service = StringIndexer(inputCol='service',outputCol='service_Index')\n",
    "SI_attack_cat = StringIndexer(inputCol='attack_cat',outputCol='attack_cat_Index')\n",
    "\n",
    "cleaned_df = SI_proto.fit(cleaned_df).transform(cleaned_df)\n",
    "cleaned_df = SI_state.fit(cleaned_df).transform(cleaned_df)\n",
    "cleaned_df = SI_service.fit(cleaned_df).transform(cleaned_df)\n",
    "cleaned_df = SI_attack_cat.fit(cleaned_df).transform(cleaned_df)"
   ]
  },
  {
   "cell_type": "code",
   "execution_count": 7,
   "id": "daaaf716-0acf-4b0f-a7f9-e641877a452d",
   "metadata": {},
   "outputs": [],
   "source": [
    "OHE = OneHotEncoder(inputCols=['proto_Index','state_Index','service_Index','attack_cat_Index'],outputCols=['proto_OHE','state_OHE','service_OHE','attack_cat_OHE'])\n",
    "cleaned_df = OHE.fit(cleaned_df).transform(cleaned_df)"
   ]
  },
  {
   "cell_type": "code",
   "execution_count": 17,
   "id": "b9ce59bb-472c-4f57-8eaa-244f74d412e1",
   "metadata": {},
   "outputs": [],
   "source": [
    "from pyspark.ml.feature import VectorAssembler\n",
    "\n",
    "assembler = VectorAssembler(inputCols=['sport','dsport','dur','sbytes','dbytes','sttl','dttl','sloss','dloss','Sload','Dload','Spkts',\n",
    "                                       'Dpkts','swin','dwin','smeansz','dmeansz','trans_depth','res_bdy_len','Sjit','Djit','Sintpkt',\n",
    "                                       'Dintpkt','tcprtt','synack','ackdat','is_sm_ips_ports','ct_state_ttl','ct_flw_http_mthd','is_ftp_login',\n",
    "                                       'Sintpkt','ct_ftp_cmd','ct_srv_src','ct_srv_dst','ct_dst_ltm','ct_src_ltm','ct_src_dport_ltm',\n",
    "                                       'ct_dst_sport_ltm','ct_dst_src_ltm','proto_Index','ct_dst_src_ltm','state_Index',\n",
    "                                       'service_Index','attack_cat_Index','proto_OHE','state_OHE','service_OHE','attack_cat_OHE'],\n",
    "                           outputCol='features')"
   ]
  },
  {
   "cell_type": "code",
   "execution_count": 18,
   "id": "db762c73-caf5-41e1-9ae4-2219e29f3205",
   "metadata": {},
   "outputs": [],
   "source": [
    "cleaned_df = cleaned_df.fillna(0)\n",
    "\n",
    "final_data = assembler.transform(cleaned_df)"
   ]
  },
  {
   "cell_type": "code",
   "execution_count": 19,
   "id": "e7ed667d-d6ee-4668-b9d9-8f8dd21f5bed",
   "metadata": {},
   "outputs": [
    {
     "name": "stdout",
     "output_type": "stream",
     "text": [
      "root\n",
      " |-- features: vector (nullable = true)\n",
      " |-- label_class: integer (nullable = true)\n",
      "\n"
     ]
    }
   ],
   "source": [
    "model_df = final_data.select(['features','Label'])\n",
    "model_df = model_df.withColumnRenamed(\"Label\",'label_class')\n",
    "model_df.printSchema()"
   ]
  },
  {
   "cell_type": "code",
   "execution_count": 20,
   "id": "bf25f082-15ec-4ab2-bdd8-300e7e537a40",
   "metadata": {},
   "outputs": [],
   "source": [
    "training_df,test_df = model_df.randomSplit([0.8,0.2],seed=123)"
   ]
  },
  {
   "cell_type": "code",
   "execution_count": 21,
   "id": "50b1cd29-019f-4001-9a6b-109f48504ea5",
   "metadata": {},
   "outputs": [
    {
     "name": "stderr",
     "output_type": "stream",
     "text": [
      "24/05/05 03:28:19 WARN MemoryStore: Not enough space to cache rdd_127_2 in memory! (computed 65.0 MiB so far)\n",
      "24/05/05 03:28:19 WARN BlockManager: Persisting block rdd_127_2 to disk instead.\n",
      "24/05/05 03:28:20 WARN MemoryStore: Not enough space to cache rdd_127_0 in memory! (computed 65.0 MiB so far)\n",
      "24/05/05 03:28:20 WARN BlockManager: Persisting block rdd_127_0 to disk instead.\n",
      "24/05/05 03:28:21 WARN MemoryStore: Not enough space to cache rdd_127_1 in memory! (computed 65.0 MiB so far)\n",
      "24/05/05 03:28:21 WARN BlockManager: Persisting block rdd_127_1 to disk instead.\n",
      "24/05/05 03:28:24 WARN MemoryStore: Not enough space to cache rdd_127_3 in memory! (computed 177.1 MiB so far)\n",
      "24/05/05 03:28:24 WARN BlockManager: Persisting block rdd_127_3 to disk instead.\n",
      "24/05/05 03:28:27 WARN MemoryStore: Not enough space to cache rdd_127_2 in memory! (computed 113.0 MiB so far)\n",
      "24/05/05 03:28:28 WARN MemoryStore: Not enough space to cache rdd_127_0 in memory! (computed 113.0 MiB so far)\n",
      "24/05/05 03:28:29 WARN MemoryStore: Not enough space to cache rdd_127_1 in memory! (computed 177.1 MiB so far)\n",
      "24/05/05 03:28:46 WARN MemoryStore: Not enough space to cache rdd_127_0 in memory! (computed 65.0 MiB so far)\n",
      "24/05/05 03:28:46 WARN MemoryStore: Not enough space to cache rdd_127_3 in memory! (computed 65.0 MiB so far)\n",
      "24/05/05 03:28:46 WARN MemoryStore: Not enough space to cache rdd_127_2 in memory! (computed 65.0 MiB so far)\n",
      "24/05/05 03:28:48 WARN MemoryStore: Not enough space to cache rdd_127_2 in memory! (computed 33.0 MiB so far)\n",
      "24/05/05 03:28:48 WARN MemoryStore: Not enough space to cache rdd_127_0 in memory! (computed 33.0 MiB so far)\n",
      "24/05/05 03:28:48 WARN MemoryStore: Not enough space to cache rdd_127_3 in memory! (computed 65.0 MiB so far)\n",
      "24/05/05 03:28:49 WARN MemoryStore: Not enough space to cache rdd_127_0 in memory! (computed 33.0 MiB so far)\n",
      "24/05/05 03:28:49 WARN MemoryStore: Not enough space to cache rdd_127_2 in memory! (computed 33.0 MiB so far)\n",
      "24/05/05 03:28:49 WARN MemoryStore: Not enough space to cache rdd_127_3 in memory! (computed 33.0 MiB so far)\n",
      "24/05/05 03:28:50 WARN MemoryStore: Not enough space to cache rdd_127_3 in memory! (computed 33.0 MiB so far)\n",
      "24/05/05 03:28:50 WARN MemoryStore: Not enough space to cache rdd_127_2 in memory! (computed 33.0 MiB so far)\n",
      "24/05/05 03:28:50 WARN MemoryStore: Not enough space to cache rdd_127_0 in memory! (computed 33.0 MiB so far)\n",
      "24/05/05 03:28:51 WARN MemoryStore: Not enough space to cache rdd_127_2 in memory! (computed 33.0 MiB so far)\n",
      "24/05/05 03:28:51 WARN MemoryStore: Not enough space to cache rdd_127_3 in memory! (computed 33.0 MiB so far)\n",
      "24/05/05 03:28:51 WARN MemoryStore: Not enough space to cache rdd_127_0 in memory! (computed 33.0 MiB so far)\n",
      "24/05/05 03:28:52 WARN MemoryStore: Not enough space to cache rdd_127_2 in memory! (computed 33.0 MiB so far)\n",
      "24/05/05 03:28:52 WARN MemoryStore: Not enough space to cache rdd_127_0 in memory! (computed 33.0 MiB so far)\n",
      "24/05/05 03:28:53 WARN MemoryStore: Not enough space to cache rdd_127_3 in memory! (computed 65.0 MiB so far)\n",
      "24/05/05 03:28:54 WARN MemoryStore: Not enough space to cache rdd_127_3 in memory! (computed 17.0 MiB so far)\n",
      "24/05/05 03:28:54 WARN MemoryStore: Not enough space to cache rdd_127_0 in memory! (computed 33.0 MiB so far)\n",
      "24/05/05 03:28:54 WARN MemoryStore: Not enough space to cache rdd_127_2 in memory! (computed 65.0 MiB so far)\n",
      "24/05/05 03:28:55 WARN MemoryStore: Not enough space to cache rdd_127_3 in memory! (computed 33.0 MiB so far)\n",
      "24/05/05 03:28:55 WARN MemoryStore: Not enough space to cache rdd_127_2 in memory! (computed 33.0 MiB so far)\n",
      "24/05/05 03:28:55 WARN MemoryStore: Not enough space to cache rdd_127_0 in memory! (computed 65.0 MiB so far)\n",
      "24/05/05 03:28:56 WARN MemoryStore: Not enough space to cache rdd_127_0 in memory! (computed 33.0 MiB so far)\n",
      "24/05/05 03:28:56 WARN MemoryStore: Not enough space to cache rdd_127_3 in memory! (computed 33.0 MiB so far)\n",
      "24/05/05 03:28:56 WARN MemoryStore: Not enough space to cache rdd_127_2 in memory! (computed 65.0 MiB so far)\n",
      "24/05/05 03:28:57 WARN MemoryStore: Not enough space to cache rdd_127_3 in memory! (computed 33.0 MiB so far)\n",
      "24/05/05 03:28:57 WARN MemoryStore: Not enough space to cache rdd_127_0 in memory! (computed 17.0 MiB so far)\n",
      "24/05/05 03:28:58 WARN MemoryStore: Not enough space to cache rdd_127_2 in memory! (computed 65.0 MiB so far)\n",
      "24/05/05 03:28:59 WARN MemoryStore: Not enough space to cache rdd_127_0 in memory! (computed 33.0 MiB so far)\n",
      "24/05/05 03:28:59 WARN MemoryStore: Not enough space to cache rdd_127_2 in memory! (computed 33.0 MiB so far)\n",
      "24/05/05 03:28:59 WARN MemoryStore: Not enough space to cache rdd_127_3 in memory! (computed 33.0 MiB so far)\n",
      "24/05/05 03:29:00 WARN MemoryStore: Not enough space to cache rdd_127_3 in memory! (computed 33.0 MiB so far)\n",
      "24/05/05 03:29:00 WARN MemoryStore: Not enough space to cache rdd_127_2 in memory! (computed 33.0 MiB so far)\n",
      "24/05/05 03:29:01 WARN MemoryStore: Not enough space to cache rdd_127_0 in memory! (computed 65.0 MiB so far)\n",
      "24/05/05 03:29:01 WARN MemoryStore: Not enough space to cache rdd_127_0 in memory! (computed 17.0 MiB so far)\n",
      "24/05/05 03:29:01 WARN MemoryStore: Not enough space to cache rdd_127_2 in memory! (computed 33.0 MiB so far)\n",
      "24/05/05 03:29:01 WARN MemoryStore: Not enough space to cache rdd_127_3 in memory! (computed 65.0 MiB so far)\n",
      "24/05/05 03:29:03 WARN MemoryStore: Not enough space to cache rdd_127_2 in memory! (computed 33.0 MiB so far)\n",
      "24/05/05 03:29:03 WARN MemoryStore: Not enough space to cache rdd_127_0 in memory! (computed 33.0 MiB so far)\n",
      "24/05/05 03:29:03 WARN MemoryStore: Not enough space to cache rdd_127_3 in memory! (computed 33.0 MiB so far)\n",
      "24/05/05 03:29:04 WARN MemoryStore: Not enough space to cache rdd_127_0 in memory! (computed 33.0 MiB so far)\n",
      "24/05/05 03:29:04 WARN MemoryStore: Not enough space to cache rdd_127_2 in memory! (computed 33.0 MiB so far)\n",
      "24/05/05 03:29:04 WARN MemoryStore: Not enough space to cache rdd_127_3 in memory! (computed 65.0 MiB so far)\n",
      "24/05/05 03:29:05 WARN MemoryStore: Not enough space to cache rdd_127_3 in memory! (computed 33.0 MiB so far)\n",
      "24/05/05 03:29:05 WARN MemoryStore: Not enough space to cache rdd_127_0 in memory! (computed 33.0 MiB so far)\n",
      "24/05/05 03:29:05 WARN MemoryStore: Not enough space to cache rdd_127_2 in memory! (computed 33.0 MiB so far)\n",
      "24/05/05 03:29:05 WARN MemoryStore: Not enough space to cache rdd_127_2 in memory! (computed 33.0 MiB so far)\n",
      "24/05/05 03:29:05 WARN MemoryStore: Not enough space to cache rdd_127_0 in memory! (computed 33.0 MiB so far)\n",
      "24/05/05 03:29:05 WARN MemoryStore: Not enough space to cache rdd_127_3 in memory! (computed 33.0 MiB so far)\n",
      "24/05/05 03:29:06 WARN MemoryStore: Not enough space to cache rdd_127_0 in memory! (computed 33.0 MiB so far)\n",
      "24/05/05 03:29:06 WARN MemoryStore: Not enough space to cache rdd_127_3 in memory! (computed 33.0 MiB so far)\n",
      "24/05/05 03:29:06 WARN MemoryStore: Not enough space to cache rdd_127_2 in memory! (computed 33.0 MiB so far)\n",
      "24/05/05 03:29:08 WARN MemoryStore: Not enough space to cache rdd_127_3 in memory! (computed 33.0 MiB so far)\n",
      "24/05/05 03:29:08 WARN MemoryStore: Not enough space to cache rdd_127_2 in memory! (computed 33.0 MiB so far)\n",
      "24/05/05 03:29:08 WARN MemoryStore: Not enough space to cache rdd_127_0 in memory! (computed 65.0 MiB so far)\n",
      "24/05/05 03:29:09 WARN MemoryStore: Not enough space to cache rdd_127_2 in memory! (computed 33.0 MiB so far)\n",
      "24/05/05 03:29:09 WARN MemoryStore: Not enough space to cache rdd_127_0 in memory! (computed 33.0 MiB so far)\n",
      "24/05/05 03:29:09 WARN MemoryStore: Not enough space to cache rdd_127_3 in memory! (computed 33.0 MiB so far)\n",
      "24/05/05 03:29:10 WARN MemoryStore: Not enough space to cache rdd_127_0 in memory! (computed 33.0 MiB so far)\n",
      "24/05/05 03:29:10 WARN MemoryStore: Not enough space to cache rdd_127_2 in memory! (computed 33.0 MiB so far)\n",
      "24/05/05 03:29:10 WARN MemoryStore: Not enough space to cache rdd_127_3 in memory! (computed 33.0 MiB so far)\n",
      "24/05/05 03:29:11 WARN MemoryStore: Not enough space to cache rdd_127_3 in memory! (computed 33.0 MiB so far)\n",
      "24/05/05 03:29:11 WARN MemoryStore: Not enough space to cache rdd_127_0 in memory! (computed 33.0 MiB so far)\n",
      "24/05/05 03:29:11 WARN MemoryStore: Not enough space to cache rdd_127_2 in memory! (computed 33.0 MiB so far)\n",
      "24/05/05 03:29:12 WARN MemoryStore: Not enough space to cache rdd_127_0 in memory! (computed 33.0 MiB so far)\n",
      "24/05/05 03:29:12 WARN MemoryStore: Not enough space to cache rdd_127_3 in memory! (computed 17.0 MiB so far)\n",
      "24/05/05 03:29:13 WARN MemoryStore: Not enough space to cache rdd_127_2 in memory! (computed 65.0 MiB so far)\n",
      "24/05/05 03:29:14 WARN MemoryStore: Not enough space to cache rdd_127_0 in memory! (computed 33.0 MiB so far)\n",
      "24/05/05 03:29:14 WARN MemoryStore: Not enough space to cache rdd_127_2 in memory! (computed 33.0 MiB so far)\n",
      "24/05/05 03:29:14 WARN MemoryStore: Not enough space to cache rdd_127_3 in memory! (computed 33.0 MiB so far)\n",
      "24/05/05 03:29:15 WARN MemoryStore: Not enough space to cache rdd_127_2 in memory! (computed 33.0 MiB so far)\n",
      "24/05/05 03:29:15 WARN MemoryStore: Not enough space to cache rdd_127_3 in memory! (computed 33.0 MiB so far)\n",
      "24/05/05 03:29:15 WARN MemoryStore: Not enough space to cache rdd_127_0 in memory! (computed 33.0 MiB so far)\n",
      "24/05/05 03:29:16 WARN MemoryStore: Not enough space to cache rdd_127_3 in memory! (computed 33.0 MiB so far)\n",
      "24/05/05 03:29:16 WARN MemoryStore: Not enough space to cache rdd_127_2 in memory! (computed 17.0 MiB so far)\n",
      "24/05/05 03:29:16 WARN MemoryStore: Not enough space to cache rdd_127_0 in memory! (computed 65.0 MiB so far)\n",
      "24/05/05 03:29:18 WARN MemoryStore: Not enough space to cache rdd_127_0 in memory! (computed 33.0 MiB so far)\n",
      "24/05/05 03:29:18 WARN MemoryStore: Not enough space to cache rdd_127_2 in memory! (computed 17.0 MiB so far)\n",
      "24/05/05 03:29:18 WARN MemoryStore: Not enough space to cache rdd_127_3 in memory! (computed 65.0 MiB so far)\n",
      "24/05/05 03:29:19 WARN MemoryStore: Not enough space to cache rdd_127_3 in memory! (computed 33.0 MiB so far)\n",
      "24/05/05 03:29:19 WARN MemoryStore: Not enough space to cache rdd_127_2 in memory! (computed 33.0 MiB so far)\n",
      "24/05/05 03:29:19 WARN MemoryStore: Not enough space to cache rdd_127_0 in memory! (computed 33.0 MiB so far)\n",
      "                                                                                \r"
     ]
    }
   ],
   "source": [
    "from pyspark.ml.classification import LogisticRegression\n",
    "\n",
    "lr = LogisticRegression(labelCol=\"label_class\", featuresCol=\"features\")\n",
    "model = lr.fit(training_df)"
   ]
  },
  {
   "cell_type": "code",
   "execution_count": 22,
   "id": "d119ba93-f67a-4550-84fb-869992d048d3",
   "metadata": {},
   "outputs": [],
   "source": [
    "predictions = model.transform(test_df)"
   ]
  },
  {
   "cell_type": "code",
   "execution_count": 23,
   "id": "7ee29903-9e80-4006-b1db-b587ce6b97c4",
   "metadata": {},
   "outputs": [
    {
     "name": "stderr",
     "output_type": "stream",
     "text": [
      "                                                                                \r"
     ]
    }
   ],
   "source": [
    "from pyspark.ml.evaluation import BinaryClassificationEvaluator\n",
    "\n",
    "evaluator = BinaryClassificationEvaluator(labelCol=\"label_class\")\n",
    "area_under_roc = evaluator.evaluate(predictions, {evaluator.metricName: \"areaUnderROC\"})"
   ]
  },
  {
   "cell_type": "code",
   "execution_count": 24,
   "id": "7adcea34-8422-44c6-8cde-3af1be547870",
   "metadata": {},
   "outputs": [
    {
     "name": "stdout",
     "output_type": "stream",
     "text": [
      "Area under ROC: 0.9999994639602303\n"
     ]
    }
   ],
   "source": [
    "print(\"Area under ROC:\", area_under_roc)"
   ]
  },
  {
   "cell_type": "code",
   "execution_count": 25,
   "id": "c0aa86fa-2b62-486b-a824-99b18035da5d",
   "metadata": {},
   "outputs": [
    {
     "name": "stderr",
     "output_type": "stream",
     "text": [
      "[Stage 94:>                                                         (0 + 1) / 1]\r"
     ]
    },
    {
     "name": "stdout",
     "output_type": "stream",
     "text": [
      "+-----------+----------+\n",
      "|label_class|prediction|\n",
      "+-----------+----------+\n",
      "|          1|       1.0|\n",
      "|          1|       1.0|\n",
      "|          1|       1.0|\n",
      "|          1|       1.0|\n",
      "|          1|       1.0|\n",
      "|          1|       1.0|\n",
      "|          1|       1.0|\n",
      "|          1|       1.0|\n",
      "|          1|       1.0|\n",
      "|          1|       1.0|\n",
      "|          1|       1.0|\n",
      "|          1|       1.0|\n",
      "|          1|       1.0|\n",
      "|          1|       1.0|\n",
      "|          1|       1.0|\n",
      "|          1|       1.0|\n",
      "|          1|       1.0|\n",
      "|          1|       1.0|\n",
      "|          1|       1.0|\n",
      "|          1|       1.0|\n",
      "|          1|       1.0|\n",
      "|          1|       1.0|\n",
      "|          1|       1.0|\n",
      "|          1|       1.0|\n",
      "|          1|       1.0|\n",
      "|          1|       1.0|\n",
      "|          1|       1.0|\n",
      "|          1|       1.0|\n",
      "|          1|       1.0|\n",
      "|          1|       1.0|\n",
      "|          1|       1.0|\n",
      "|          1|       1.0|\n",
      "|          1|       1.0|\n",
      "|          1|       1.0|\n",
      "|          1|       1.0|\n",
      "|          1|       1.0|\n",
      "|          1|       1.0|\n",
      "|          1|       1.0|\n",
      "|          1|       1.0|\n",
      "|          1|       1.0|\n",
      "|          1|       1.0|\n",
      "|          1|       1.0|\n",
      "|          1|       1.0|\n",
      "|          1|       1.0|\n",
      "|          1|       1.0|\n",
      "|          1|       1.0|\n",
      "|          1|       1.0|\n",
      "|          1|       1.0|\n",
      "|          1|       1.0|\n",
      "|          1|       1.0|\n",
      "+-----------+----------+\n",
      "only showing top 50 rows\n",
      "\n"
     ]
    },
    {
     "name": "stderr",
     "output_type": "stream",
     "text": [
      "                                                                                \r"
     ]
    }
   ],
   "source": [
    "predictions.select('label_class','prediction').show(50)"
   ]
  },
  {
   "cell_type": "code",
   "execution_count": 26,
   "id": "e17160bc-5aa2-4f0d-9825-2f34e97e6e9e",
   "metadata": {},
   "outputs": [],
   "source": [
    "model_summary = model.summary"
   ]
  },
  {
   "cell_type": "code",
   "execution_count": 27,
   "id": "d4910348-7904-4347-9a6e-d6b97728e2b5",
   "metadata": {},
   "outputs": [
    {
     "name": "stderr",
     "output_type": "stream",
     "text": [
      "                                                                                \r"
     ]
    },
    {
     "data": {
      "text/plain": [
       "1.0"
      ]
     },
     "execution_count": 27,
     "metadata": {},
     "output_type": "execute_result"
    },
    {
     "name": "stderr",
     "output_type": "stream",
     "text": [
      "24/05/05 13:12:32 WARN HeartbeatReceiver: Removing executor driver with no recent heartbeats: 228642 ms exceeds timeout 120000 ms\n",
      "24/05/05 13:12:33 WARN SparkContext: Killing executors is not supported by current scheduler.\n"
     ]
    }
   ],
   "source": [
    "model_summary.accuracy"
   ]
  },
  {
   "cell_type": "code",
   "execution_count": 51,
   "id": "50e0c879-3d3a-4a6c-950d-1c3ad90da50c",
   "metadata": {},
   "outputs": [
    {
     "name": "stdout",
     "output_type": "stream",
     "text": [
      "[1.0, 1.0]\n"
     ]
    }
   ],
   "source": [
    "print(model_summary.precisionByLabel)"
   ]
  },
  {
   "cell_type": "code",
   "execution_count": 52,
   "id": "953eab2f-10cc-483b-b9a4-8571af6acf60",
   "metadata": {},
   "outputs": [
    {
     "name": "stdout",
     "output_type": "stream",
     "text": [
      "[1.0, 1.0]\n"
     ]
    }
   ],
   "source": [
    "print(model_summary.recallByLabel)"
   ]
  },
  {
   "cell_type": "code",
   "execution_count": 53,
   "id": "514eabbb-7250-4284-85df-a254ad0d3943",
   "metadata": {},
   "outputs": [],
   "source": [
    "import matplotlib.pyplot as plt\n",
    "import numpy as np\n",
    "from sklearn.metrics import roc_curve, confusion_matrix, precision_recall_curve\n"
   ]
  },
  {
   "cell_type": "code",
   "execution_count": 54,
   "id": "c14a5743-483c-4523-bc20-bdae8433a176",
   "metadata": {},
   "outputs": [],
   "source": [
    "pred_labels = predictions.select(['prediction', 'label_class']).rdd.map(lambda row: (float(row['prediction']), float(row['label_class'])))\n"
   ]
  },
  {
   "cell_type": "code",
   "execution_count": 55,
   "id": "0c040f6c-f8d6-4968-ae68-6ae8d878a275",
   "metadata": {},
   "outputs": [
    {
     "name": "stderr",
     "output_type": "stream",
     "text": [
      "                                                                                \r"
     ]
    }
   ],
   "source": [
    "preds = pred_labels.map(lambda x: x[0]).collect()\n",
    "labels = pred_labels.map(lambda x: x[1]).collect()"
   ]
  },
  {
   "cell_type": "code",
   "execution_count": 56,
   "id": "a084c6ee-9f1f-4df8-8a8b-aae3300c83c3",
   "metadata": {},
   "outputs": [
    {
     "data": {
      "image/png": "[encoded data removed]",
      "text/plain": [
       "<Figure size 800x600 with 1 Axes>"
      ]
     },
     "metadata": {},
     "output_type": "display_data"
    }
   ],
   "source": [
    "# ROC Curve\n",
    "fpr, tpr, thresholds = roc_curve(labels, preds)\n",
    "plt.figure(figsize=(8, 6))\n",
    "plt.plot(fpr, tpr)\n",
    "plt.title('ROC Curve')\n",
    "plt.xlabel('False Positive Rate')\n",
    "plt.ylabel('True Positive Rate')\n",
    "plt.grid(True)\n",
    "plt.show()"
   ]
  },
  {
   "cell_type": "code",
   "execution_count": 57,
   "id": "4ca3d5f3-0d55-4192-b1d0-46414e43a671",
   "metadata": {},
   "outputs": [
    {
     "data": {
      "image/png": "[encoded data removed]",
      "text/plain": [
       "<Figure size 800x600 with 2 Axes>"
      ]
     },
     "metadata": {},
     "output_type": "display_data"
    }
   ],
   "source": [
    "# Confusion Matrix\n",
    "cm = confusion_matrix(labels, np.round(preds))\n",
    "plt.figure(figsize=(8, 6))\n",
    "plt.imshow(cm, interpolation='nearest', cmap=plt.cm.Blues)\n",
    "plt.title('Confusion Matrix')\n",
    "plt.colorbar()\n",
    "plt.xlabel('Predicted Label')\n",
    "plt.ylabel('True Label')\n",
    "plt.show()"
   ]
  },
  {
   "cell_type": "code",
   "execution_count": 58,
   "id": "f776097e-ec0f-4d55-9a92-88e798247e3a",
   "metadata": {},
   "outputs": [
    {
     "data": {
      "image/png": "[encoded data removed]",
      "text/plain": [
       "<Figure size 800x600 with 1 Axes>"
      ]
     },
     "metadata": {},
     "output_type": "display_data"
    }
   ],
   "source": [
    "# Precision-Recall Curve\n",
    "precision, recall, _ = precision_recall_curve(labels, preds)\n",
    "plt.figure(figsize=(8, 6))\n",
    "plt.plot(recall, precision)\n",
    "plt.title('Precision-Recall Curve')\n",
    "plt.xlabel('Recall')\n",
    "plt.ylabel('Precision')\n",
    "plt.grid(True)\n",
    "plt.show()"
   ]
  },
  {
   "cell_type": "code",
   "execution_count": null,
   "id": "62ffbaee-e53e-4506-b09c-19d19d47e737",
   "metadata": {},
   "outputs": [],
   "source": []
  }
 ],
 "metadata": {
  "kernelspec": {
   "display_name": "Python 3 (ipykernel)",
   "language": "python",
   "name": "python3"
  },
  "language_info": {
   "codemirror_mode": {
    "name": "ipython",
    "version": 3
   },
   "file_extension": ".py",
   "mimetype": "text/x-python",
   "name": "python",
   "nbconvert_exporter": "python",
   "pygments_lexer": "ipython3",
   "version": "3.8.10"
  }
 },
 "nbformat": 4,
 "nbformat_minor": 5
}
